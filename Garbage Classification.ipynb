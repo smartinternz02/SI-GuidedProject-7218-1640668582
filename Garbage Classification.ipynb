{
 "cells": [
  {
   "cell_type": "markdown",
   "id": "8e791b33",
   "metadata": {},
   "source": [
    "### Importing the ImageDataGenerator Library"
   ]
  },
  {
   "cell_type": "code",
   "execution_count": 1,
   "id": "d23c506b",
   "metadata": {},
   "outputs": [],
   "source": [
    "from keras.preprocessing.image import ImageDataGenerator"
   ]
  },
  {
   "cell_type": "markdown",
   "id": "408df7e3",
   "metadata": {},
   "source": [
    "### Image Data Augmentation"
   ]
  },
  {
   "cell_type": "code",
   "execution_count": 3,
   "id": "1b0e3466",
   "metadata": {},
   "outputs": [],
   "source": [
    "#setting parameter for image data augmentation to the training data.\n",
    "train_datagen = ImageDataGenerator(rescale=1./255,\n",
    "                                  shear_range=0.1,\n",
    "                                  zoom_range=0.1,\n",
    "                                   featurewise_center=True,\n",
    "                                  horizontal_flip=True)"
   ]
  },
  {
   "cell_type": "code",
   "execution_count": 4,
   "id": "d3e171c6",
   "metadata": {},
   "outputs": [],
   "source": [
    "#image data augmentation to the testing data.\n",
    "val_datagen = ImageDataGenerator(rescale = 1./255)"
   ]
  },
  {
   "cell_type": "markdown",
   "id": "14d89e38",
   "metadata": {},
   "source": [
    "### Loading Data and performing Data Augmentation "
   ]
  },
  {
   "cell_type": "code",
   "execution_count": 5,
   "id": "79baaddc",
   "metadata": {},
   "outputs": [
    {
     "name": "stdout",
     "output_type": "stream",
     "text": [
      "Found 2527 images belonging to 6 classes.\n"
     ]
    }
   ],
   "source": [
    "train_transform = train_datagen.flow_from_directory(r\"D:\\Project\\Dataset\\trainset\",\n",
    "                                                   target_size=(128,128),\n",
    "                                                   batch_size=64,\n",
    "                                                   class_mode='categorical')"
   ]
  },
  {
   "cell_type": "code",
   "execution_count": 6,
   "id": "75f0b25a",
   "metadata": {},
   "outputs": [
    {
     "name": "stdout",
     "output_type": "stream",
     "text": [
      "Found 600 images belonging to 6 classes.\n"
     ]
    }
   ],
   "source": [
    "test_transform = val_datagen.flow_from_directory(r\"D:\\Project\\Dataset\\testset\",\n",
    "                                                target_size=(128,128),\n",
    "                                                batch_size=64,\n",
    "                                                class_mode='categorical')"
   ]
  },
  {
   "cell_type": "markdown",
   "id": "2497feb9",
   "metadata": {},
   "source": [
    "## Importing Necessary Libraries"
   ]
  },
  {
   "cell_type": "code",
   "execution_count": 7,
   "id": "c60c3780",
   "metadata": {},
   "outputs": [],
   "source": [
    "#to define linear initializations import Sequential\n",
    "from tensorflow.keras.models import Sequential\n",
    "#To add layers import Dense\n",
    "from tensorflow.keras.layers import Dense\n",
    "#To create a convolution kernel import Convolution2D\n",
    "from tensorflow.keras.layers import Convolution2D\n",
    "# Adding Max pooling layer\n",
    "from tensorflow.keras.layers import MaxPooling2D\n",
    "# Adding Flatten layer\n",
    "from tensorflow.keras.layers import Flatten, Dropout\n",
    "from tensorflow.keras.optimizers import Adam "
   ]
  },
  {
   "cell_type": "code",
   "execution_count": 8,
   "id": "15b65e6a",
   "metadata": {},
   "outputs": [],
   "source": [
    "# Initializing the model\n",
    "model = Sequential()"
   ]
  },
  {
   "cell_type": "code",
   "execution_count": 9,
   "id": "89ea6012",
   "metadata": {},
   "outputs": [],
   "source": [
    "# First Convolution layer and pooling\n",
    "model.add(Convolution2D(32,(3,3),input_shape=(128,128,3),activation='relu'))\n",
    "model.add(MaxPooling2D(2,2))"
   ]
  },
  {
   "cell_type": "code",
   "execution_count": 10,
   "id": "927096f1",
   "metadata": {},
   "outputs": [],
   "source": [
    "# Second Convolution layer and pooling\n",
    "model.add(Convolution2D(64,(3,3),padding='same',activation='relu'))\n",
    "\n",
    "#input shape is going to be the pooled feature maps from the previous convolution\n",
    "model.add(MaxPooling2D(pool_size=2))"
   ]
  },
  {
   "cell_type": "code",
   "execution_count": 11,
   "id": "f31e62f8",
   "metadata": {},
   "outputs": [],
   "source": [
    "#Third Convolution layer and pooling\n",
    "model.add(Convolution2D(32,(3,3),activation='relu'))\n",
    "model.add(MaxPooling2D(2,2))"
   ]
  },
  {
   "cell_type": "code",
   "execution_count": 12,
   "id": "a0222731",
   "metadata": {},
   "outputs": [],
   "source": [
    "# Fourth Convolution layer and pooling\n",
    "model.add(Convolution2D(32,(3,3), padding='same',activation='relu'))\n",
    "\n",
    "#input shape is going to be the pooled feature maps from the previous convolution.\n",
    "model.add(MaxPooling2D(pool_size=2))"
   ]
  },
  {
   "cell_type": "code",
   "execution_count": 13,
   "id": "0cfea4cd",
   "metadata": {},
   "outputs": [],
   "source": [
    "#Flattening the layers\n",
    "model.add(Flatten())"
   ]
  },
  {
   "cell_type": "code",
   "execution_count": 14,
   "id": "c96940a1",
   "metadata": {},
   "outputs": [
    {
     "data": {
      "text/plain": [
       "(None, 1568)"
      ]
     },
     "execution_count": 14,
     "metadata": {},
     "output_type": "execute_result"
    }
   ],
   "source": [
    "model.output_shape"
   ]
  },
  {
   "cell_type": "markdown",
   "id": "c1133958",
   "metadata": {},
   "source": [
    "## Adding Fully Connected Layer"
   ]
  },
  {
   "cell_type": "code",
   "execution_count": 15,
   "id": "aaf025aa",
   "metadata": {},
   "outputs": [],
   "source": [
    "# Adding 1st hidden layer\n",
    "model.add(Dense(kernel_initializer='uniform',activation='relu',units=150))"
   ]
  },
  {
   "cell_type": "code",
   "execution_count": 16,
   "id": "5c109805",
   "metadata": {},
   "outputs": [],
   "source": [
    "# Adding 2nd hidden layer\n",
    "model.add(Dense(kernel_initializer='uniform',activation='relu',units=68))"
   ]
  },
  {
   "cell_type": "code",
   "execution_count": 17,
   "id": "11c58d8e",
   "metadata": {},
   "outputs": [],
   "source": [
    "model.add(Dense(kernel_initializer='uniform',activation='softmax',units=6))"
   ]
  },
  {
   "cell_type": "code",
   "execution_count": 18,
   "id": "56168cca",
   "metadata": {},
   "outputs": [],
   "source": []
  },
  {
   "cell_type": "code",
   "execution_count": 18,
   "id": "bff55217",
   "metadata": {},
   "outputs": [
    {
     "name": "stdout",
     "output_type": "stream",
     "text": [
      "Model: \"sequential\"\n",
      "_________________________________________________________________\n",
      " Layer (type)                Output Shape              Param #   \n",
      "=================================================================\n",
      " conv2d (Conv2D)             (None, 126, 126, 32)      896       \n",
      "                                                                 \n",
      " max_pooling2d (MaxPooling2D  (None, 63, 63, 32)       0         \n",
      " )                                                               \n",
      "                                                                 \n",
      " conv2d_1 (Conv2D)           (None, 63, 63, 64)        18496     \n",
      "                                                                 \n",
      " max_pooling2d_1 (MaxPooling  (None, 31, 31, 64)       0         \n",
      " 2D)                                                             \n",
      "                                                                 \n",
      " conv2d_2 (Conv2D)           (None, 29, 29, 32)        18464     \n",
      "                                                                 \n",
      " max_pooling2d_2 (MaxPooling  (None, 14, 14, 32)       0         \n",
      " 2D)                                                             \n",
      "                                                                 \n",
      " conv2d_3 (Conv2D)           (None, 14, 14, 32)        9248      \n",
      "                                                                 \n",
      " max_pooling2d_3 (MaxPooling  (None, 7, 7, 32)         0         \n",
      " 2D)                                                             \n",
      "                                                                 \n",
      " flatten (Flatten)           (None, 1568)              0         \n",
      "                                                                 \n",
      " dense (Dense)               (None, 150)               235350    \n",
      "                                                                 \n",
      " dense_1 (Dense)             (None, 68)                10268     \n",
      "                                                                 \n",
      " dense_2 (Dense)             (None, 6)                 414       \n",
      "                                                                 \n",
      "=================================================================\n",
      "Total params: 293,136\n",
      "Trainable params: 293,136\n",
      "Non-trainable params: 0\n",
      "_________________________________________________________________\n"
     ]
    }
   ],
   "source": [
    "model.summary()"
   ]
  },
  {
   "cell_type": "markdown",
   "id": "134efe53",
   "metadata": {},
   "source": [
    "## Compiling the Model"
   ]
  },
  {
   "cell_type": "code",
   "execution_count": 19,
   "id": "9e4bfaf8",
   "metadata": {},
   "outputs": [],
   "source": [
    "# compiling the CNN model\n",
    "model.compile(loss='categorical_crossentropy', optimizer='adam', metrics=['acc'])"
   ]
  },
  {
   "cell_type": "markdown",
   "id": "cb822fd4",
   "metadata": {},
   "source": [
    "## Fit the Model"
   ]
  },
  {
   "cell_type": "code",
   "execution_count": 21,
   "id": "69d1c669",
   "metadata": {},
   "outputs": [
    {
     "name": "stdout",
     "output_type": "stream",
     "text": [
      "Epoch 1/30\n",
      "39/39 [==============================] - 42s 1s/step - loss: 0.6525 - acc: 0.7531 - val_loss: 0.5339 - val_acc: 0.8108\n",
      "Epoch 2/30\n",
      "39/39 [==============================] - 46s 1s/step - loss: 0.5878 - acc: 0.7824 - val_loss: 0.5816 - val_acc: 0.7969\n",
      "Epoch 3/30\n",
      "39/39 [==============================] - 45s 1s/step - loss: 0.5686 - acc: 0.7832 - val_loss: 0.6996 - val_acc: 0.7448\n",
      "Epoch 4/30\n",
      "39/39 [==============================] - 46s 1s/step - loss: 0.6030 - acc: 0.7799 - val_loss: 0.4737 - val_acc: 0.8333\n",
      "Epoch 5/30\n",
      "39/39 [==============================] - 45s 1s/step - loss: 0.5071 - acc: 0.8039 - val_loss: 0.5171 - val_acc: 0.8160\n",
      "Epoch 6/30\n",
      "39/39 [==============================] - 46s 1s/step - loss: 0.5503 - acc: 0.7937 - val_loss: 0.5018 - val_acc: 0.8160\n",
      "Epoch 7/30\n",
      "39/39 [==============================] - 47s 1s/step - loss: 0.4567 - acc: 0.8295 - val_loss: 0.4041 - val_acc: 0.8524\n",
      "Epoch 8/30\n",
      "39/39 [==============================] - 46s 1s/step - loss: 0.4295 - acc: 0.8388 - val_loss: 0.3838 - val_acc: 0.8524\n",
      "Epoch 9/30\n",
      "39/39 [==============================] - 45s 1s/step - loss: 0.4307 - acc: 0.8356 - val_loss: 0.5302 - val_acc: 0.8073\n",
      "Epoch 10/30\n",
      "39/39 [==============================] - 46s 1s/step - loss: 0.4303 - acc: 0.8449 - val_loss: 0.3480 - val_acc: 0.8767\n",
      "Epoch 11/30\n",
      "39/39 [==============================] - 46s 1s/step - loss: 0.3463 - acc: 0.8741 - val_loss: 0.3980 - val_acc: 0.8472\n",
      "Epoch 12/30\n",
      "39/39 [==============================] - 47s 1s/step - loss: 0.3804 - acc: 0.8530 - val_loss: 0.4306 - val_acc: 0.8229\n",
      "Epoch 13/30\n",
      "39/39 [==============================] - 47s 1s/step - loss: 0.3358 - acc: 0.8762 - val_loss: 0.3983 - val_acc: 0.8542\n",
      "Epoch 14/30\n",
      "39/39 [==============================] - 46s 1s/step - loss: 0.3074 - acc: 0.8859 - val_loss: 0.3604 - val_acc: 0.8698\n",
      "Epoch 15/30\n",
      "39/39 [==============================] - 47s 1s/step - loss: 0.3011 - acc: 0.8912 - val_loss: 0.2481 - val_acc: 0.8993\n",
      "Epoch 16/30\n",
      "39/39 [==============================] - 47s 1s/step - loss: 0.2769 - acc: 0.8977 - val_loss: 0.1867 - val_acc: 0.9427\n",
      "Epoch 17/30\n",
      "39/39 [==============================] - 47s 1s/step - loss: 0.2638 - acc: 0.9034 - val_loss: 0.2753 - val_acc: 0.9028\n",
      "Epoch 18/30\n",
      "39/39 [==============================] - 47s 1s/step - loss: 0.2695 - acc: 0.8997 - val_loss: 0.2419 - val_acc: 0.9010\n",
      "Epoch 19/30\n",
      "39/39 [==============================] - 47s 1s/step - loss: 0.2453 - acc: 0.9123 - val_loss: 0.2196 - val_acc: 0.9149\n",
      "Epoch 20/30\n",
      "39/39 [==============================] - 47s 1s/step - loss: 0.2946 - acc: 0.8883 - val_loss: 0.2741 - val_acc: 0.8941\n",
      "Epoch 21/30\n",
      "39/39 [==============================] - 46s 1s/step - loss: 0.2593 - acc: 0.9050 - val_loss: 0.2260 - val_acc: 0.9184\n",
      "Epoch 22/30\n",
      "39/39 [==============================] - 47s 1s/step - loss: 0.2166 - acc: 0.9225 - val_loss: 0.2841 - val_acc: 0.8976\n",
      "Epoch 23/30\n",
      "39/39 [==============================] - 47s 1s/step - loss: 0.2093 - acc: 0.9245 - val_loss: 0.1467 - val_acc: 0.9375\n",
      "Epoch 24/30\n",
      "39/39 [==============================] - 46s 1s/step - loss: 0.1864 - acc: 0.9363 - val_loss: 0.3237 - val_acc: 0.8889\n",
      "Epoch 25/30\n",
      "39/39 [==============================] - 48s 1s/step - loss: 0.2193 - acc: 0.9220 - val_loss: 0.1387 - val_acc: 0.9462\n",
      "Epoch 26/30\n",
      "39/39 [==============================] - 47s 1s/step - loss: 0.1495 - acc: 0.9468 - val_loss: 0.1492 - val_acc: 0.9444\n",
      "Epoch 27/30\n",
      "39/39 [==============================] - 47s 1s/step - loss: 0.1548 - acc: 0.9399 - val_loss: 0.2310 - val_acc: 0.9115\n",
      "Epoch 28/30\n",
      "39/39 [==============================] - 47s 1s/step - loss: 0.1722 - acc: 0.9436 - val_loss: 0.1225 - val_acc: 0.9566\n",
      "Epoch 29/30\n",
      "39/39 [==============================] - 48s 1s/step - loss: 0.1271 - acc: 0.9570 - val_loss: 0.2342 - val_acc: 0.9236\n",
      "Epoch 30/30\n",
      "39/39 [==============================] - 46s 1s/step - loss: 0.1028 - acc: 0.9626 - val_loss: 0.1655 - val_acc: 0.9497\n"
     ]
    }
   ],
   "source": [
    "res = model.fit(train_transform,steps_per_epoch=2527//64,validation_steps=600//64,epochs=30,\n",
    "                          validation_data=test_transform)"
   ]
  },
  {
   "cell_type": "markdown",
   "id": "883b4ed3",
   "metadata": {},
   "source": [
    "## Saving the Model"
   ]
  },
  {
   "cell_type": "code",
   "execution_count": 47,
   "id": "35c216d6",
   "metadata": {},
   "outputs": [],
   "source": [
    "model.save('Garbage1.h5')"
   ]
  },
  {
   "cell_type": "markdown",
   "id": "b0049ce5",
   "metadata": {},
   "source": [
    "## Test the Model"
   ]
  },
  {
   "cell_type": "code",
   "execution_count": 48,
   "id": "fba3221c",
   "metadata": {},
   "outputs": [],
   "source": [
    "#import numpy library\n",
    "import numpy as np\n",
    "#import load model method to load our saved model\n",
    "from tensorflow.keras.models import load_model\n",
    "#import image from keras.preprocessing\n",
    "from tensorflow.keras.preprocessing import image\n",
    "#loading our saved model file\n",
    "model = load_model(\"Garbage1.h5\")"
   ]
  },
  {
   "cell_type": "code",
   "execution_count": 49,
   "id": "9c179635",
   "metadata": {},
   "outputs": [],
   "source": [
    "img = image.load_img(r\"D:\\Project\\Dataset\\testset\\paper\\paper12.jpg\",\n",
    "                    target_size=(128,128))\n",
    "x = image.img_to_array(img) #converting in to array format\n",
    "\n",
    "x = np.expand_dims(x,axis=0) #chnaging its dimensions as per our requirement\n",
    "#img_data = preprocessing_input(x)\n",
    "#img_data.shape"
   ]
  },
  {
   "cell_type": "code",
   "execution_count": 50,
   "id": "12af5fab",
   "metadata": {},
   "outputs": [],
   "source": [
    "a = np.argmax(model.predict(x), axis = 1)"
   ]
  },
  {
   "cell_type": "code",
   "execution_count": 51,
   "id": "1729f784",
   "metadata": {},
   "outputs": [
    {
     "data": {
      "text/plain": [
       "'3'"
      ]
     },
     "execution_count": 51,
     "metadata": {},
     "output_type": "execute_result"
    }
   ],
   "source": [
    "index=['0', '1', '2', '3', '4', '5']\n",
    "result = str(index[a[0]])\n",
    "result"
   ]
  },
  {
   "cell_type": "code",
   "execution_count": 52,
   "id": "36c84fab",
   "metadata": {},
   "outputs": [
    {
     "data": {
      "text/plain": [
       "{'cardboard': 0, 'glass': 1, 'metal': 2, 'paper': 3, 'plastic': 4, 'trash': 5}"
      ]
     },
     "execution_count": 52,
     "metadata": {},
     "output_type": "execute_result"
    }
   ],
   "source": [
    "train_transform.class_indices"
   ]
  },
  {
   "cell_type": "code",
   "execution_count": 53,
   "id": "49be49d7",
   "metadata": {},
   "outputs": [
    {
     "data": {
      "text/plain": [
       "'paper'"
      ]
     },
     "execution_count": 53,
     "metadata": {},
     "output_type": "execute_result"
    }
   ],
   "source": [
    "index1=['cardboard', 'glass', 'metal', 'paper', 'plastic', 'trash']\n",
    "result1 = str(index1[a[0]])\n",
    "result1"
   ]
  },
  {
   "cell_type": "code",
   "execution_count": null,
   "id": "66d01476",
   "metadata": {},
   "outputs": [],
   "source": []
  }
 ],
 "metadata": {
  "kernelspec": {
   "display_name": "Python 3",
   "language": "python",
   "name": "python3"
  },
  "language_info": {
   "codemirror_mode": {
    "name": "ipython",
    "version": 3
   },
   "file_extension": ".py",
   "mimetype": "text/x-python",
   "name": "python",
   "nbconvert_exporter": "python",
   "pygments_lexer": "ipython3",
   "version": "3.8.8"
  }
 },
 "nbformat": 4,
 "nbformat_minor": 5
}
